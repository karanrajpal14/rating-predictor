{
 "cells": [
  {
   "cell_type": "code",
   "execution_count": 7,
   "metadata": {
    "collapsed": true
   },
   "outputs": [],
   "source": [
    "import os\n",
    "\n",
    "import numpy as np\n",
    "import pandas as pd\n",
    "import matplotlib.pyplot as plt"
   ]
  },
  {
   "cell_type": "code",
   "execution_count": 8,
   "outputs": [],
   "source": [
    "DATA_DIR = \"data/\"\n",
    "\n",
    "INDEX_PICKLE = DATA_DIR + \"index.pkl\"\n",
    "INDEX_DATA_CHANGED = False\n",
    "\n",
    "REVIEWS_PICKLE = DATA_DIR + \"reviews.pkl\"\n",
    "REVIEWS_DATA_CHANGED = False"
   ],
   "metadata": {
    "collapsed": false,
    "pycharm": {
     "name": "#%%\n"
    }
   }
  },
  {
   "cell_type": "code",
   "execution_count": 12,
   "outputs": [
    {
     "name": "stdout",
     "output_type": "stream",
     "text": [
      "Index data:\n",
      "       ID                                           Name  Year  Rank  Average  \\\n",
      "0  174430                                     Gloomhaven  2017     1     8.90   \n",
      "1  161936                      Pandemic Legacy: Season 1  2015     2     8.64   \n",
      "2  182028  Through the Ages: A New Story of Civilization  2015     3     8.53   \n",
      "3  167791                              Terraforming Mars  2016     4     8.40   \n",
      "4   12333                              Twilight Struggle  2005     5     8.33   \n",
      "\n",
      "   Bayes average  Users rated  \\\n",
      "0          8.611        24574   \n",
      "1          8.489        30921   \n",
      "2          8.258        15551   \n",
      "3          8.242        38331   \n",
      "4          8.175        34268   \n",
      "\n",
      "                                                 URL  \\\n",
      "0                       /boardgame/174430/gloomhaven   \n",
      "1         /boardgame/161936/pandemic-legacy-season-1   \n",
      "2  /boardgame/182028/through-ages-new-story-civil...   \n",
      "3                /boardgame/167791/terraforming-mars   \n",
      "4                 /boardgame/12333/twilight-struggle   \n",
      "\n",
      "                                           Thumbnail  \n",
      "0  https://cf.geekdo-images.com/micro/img/8JYMPXd...  \n",
      "1  https://cf.geekdo-images.com/micro/img/KbAKyhb...  \n",
      "2  https://cf.geekdo-images.com/micro/img/APvZ_BY...  \n",
      "3  https://cf.geekdo-images.com/micro/img/71v8jF5...  \n",
      "4  https://cf.geekdo-images.com/micro/img/uStZr7_...  \n",
      "Reviews data:\n",
      "       ID                                           Name  Year  Rank  Average  \\\n",
      "0  174430                                     Gloomhaven  2017     1     8.90   \n",
      "1  161936                      Pandemic Legacy: Season 1  2015     2     8.64   \n",
      "2  182028  Through the Ages: A New Story of Civilization  2015     3     8.53   \n",
      "3  167791                              Terraforming Mars  2016     4     8.40   \n",
      "4   12333                              Twilight Struggle  2005     5     8.33   \n",
      "\n",
      "   Bayes average  Users rated  \\\n",
      "0          8.611        24574   \n",
      "1          8.489        30921   \n",
      "2          8.258        15551   \n",
      "3          8.242        38331   \n",
      "4          8.175        34268   \n",
      "\n",
      "                                                 URL  \\\n",
      "0                       /boardgame/174430/gloomhaven   \n",
      "1         /boardgame/161936/pandemic-legacy-season-1   \n",
      "2  /boardgame/182028/through-ages-new-story-civil...   \n",
      "3                /boardgame/167791/terraforming-mars   \n",
      "4                 /boardgame/12333/twilight-struggle   \n",
      "\n",
      "                                           Thumbnail  \n",
      "0  https://cf.geekdo-images.com/micro/img/8JYMPXd...  \n",
      "1  https://cf.geekdo-images.com/micro/img/KbAKyhb...  \n",
      "2  https://cf.geekdo-images.com/micro/img/APvZ_BY...  \n",
      "3  https://cf.geekdo-images.com/micro/img/71v8jF5...  \n",
      "4  https://cf.geekdo-images.com/micro/img/uStZr7_...  \n",
      "          ID                        Name  Year   Rank  Average  Bayes average  \\\n",
      "0       5961            Battle for Basra  1991  15634     5.04          5.475   \n",
      "1        610      Knights of the Rainbow  1999  15984     4.87          5.464   \n",
      "2      26795  Day of the Chariot: Kadesh  2008  11273     6.24          5.525   \n",
      "3     207010          Paramedics: Clear!  2017   5324     7.01          5.640   \n",
      "4       5303             APBA Pro Hockey  1993  11376     6.13          5.524   \n",
      "...      ...                         ...   ...    ...      ...            ...   \n",
      "9995   41646                 Sushi Roll!  2009  15372     5.38          5.480   \n",
      "9996  175510                    Soulfall  2015   5642     6.38          5.626   \n",
      "9997     736               San Francisco  2000   5316     6.20          5.640   \n",
      "9998  197405                         Tak  2017    752     7.80          6.623   \n",
      "9999  191895             Toddles-Bobbles  2010   8002     6.64          5.563   \n",
      "\n",
      "      Users rated                                  URL  \\\n",
      "0              54         /boardgame/5961/battle-basra   \n",
      "1              67       /boardgame/610/knights-rainbow   \n",
      "2              54  /boardgame/26795/day-chariot-kadesh   \n",
      "3             134   /boardgame/207010/paramedics-clear   \n",
      "4              57      /boardgame/5303/apba-pro-hockey   \n",
      "...           ...                                  ...   \n",
      "9995          128          /boardgame/41646/sushi-roll   \n",
      "9996          204           /boardgame/175510/soulfall   \n",
      "9997          305         /boardgame/736/san-francisco   \n",
      "9998         1455                /boardgame/197405/tak   \n",
      "9999           82    /boardgame/191895/toddles-bobbles   \n",
      "\n",
      "                                              Thumbnail  \n",
      "0     https://cf.geekdo-images.com/micro/img/2JZVHXX...  \n",
      "1     https://cf.geekdo-images.com/micro/img/N7SLaCC...  \n",
      "2     https://cf.geekdo-images.com/micro/img/wJkLkIp...  \n",
      "3     https://cf.geekdo-images.com/micro/img/CZJlSk0...  \n",
      "4     https://cf.geekdo-images.com/micro/img/sRKLQF0...  \n",
      "...                                                 ...  \n",
      "9995  https://cf.geekdo-images.com/micro/img/W5N6vKb...  \n",
      "9996  https://cf.geekdo-images.com/micro/img/ZY99ZQ8...  \n",
      "9997  https://cf.geekdo-images.com/micro/img/BhprtJz...  \n",
      "9998  https://cf.geekdo-images.com/micro/img/cOd1izE...  \n",
      "9999  https://cf.geekdo-images.com/micro/img/awxu4xD...  \n",
      "\n",
      "[10000 rows x 9 columns]\n"
     ]
    }
   ],
   "source": [
    "index = pd.DataFrame()\n",
    "reviews = pd.DataFrame()\n",
    "\n",
    "if os.path.isfile(INDEX_PICKLE) or INDEX_DATA_CHANGED:\n",
    "    index = pd.read_pickle(INDEX_PICKLE, compression=\"gzip\")\n",
    "else:\n",
    "    index = pd.read_csv(DATA_DIR + '2019-05-02.csv')\n",
    "    print(\"Pickling Index data\")\n",
    "    index.to_pickle(INDEX_PICKLE, compression=\"gzip\")\n",
    "\n",
    "INDEX_DATA_CHANGED = False\n",
    "\n",
    "if os.path.isfile(REVIEWS_PICKLE) or REVIEWS_DATA_CHANGED:\n",
    "    reviews = pd.read_pickle(INDEX_PICKLE, compression=\"gzip\")\n",
    "else:\n",
    "    reviews = pd.read_csv(DATA_DIR + 'bgg-13m-reviews.csv')\n",
    "    print(\"Pickling Reviews data\")\n",
    "    reviews.to_pickle(REVIEWS_PICKLE, compression=\"gzip\")\n",
    "\n",
    "REVIEWS_DATA_CHANGED = False\n",
    "\n",
    "print(\"Index data:\")\n",
    "print(index.head())\n",
    "\n",
    "print(\"Reviews data:\")\n",
    "print(reviews.head())\n",
    "\n",
    "sample_reviews = reviews.sample(n=10000, random_state=3).reset_index(drop=True)\n",
    "print(sample_reviews)"
   ],
   "metadata": {
    "collapsed": false,
    "pycharm": {
     "name": "#%%\n"
    }
   }
  }
 ],
 "metadata": {
  "kernelspec": {
   "display_name": "Python 3",
   "language": "python",
   "name": "python3"
  },
  "language_info": {
   "codemirror_mode": {
    "name": "ipython",
    "version": 2
   },
   "file_extension": ".py",
   "mimetype": "text/x-python",
   "name": "python",
   "nbconvert_exporter": "python",
   "pygments_lexer": "ipython2",
   "version": "2.7.6"
  }
 },
 "nbformat": 4,
 "nbformat_minor": 0
}